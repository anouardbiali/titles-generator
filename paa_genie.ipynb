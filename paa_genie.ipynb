{
 "cells": [
  {
   "cell_type": "code",
   "execution_count": 1,
   "metadata": {},
   "outputs": [],
   "source": [
    "import os\n",
    "import json\n",
    "from gpt4all import GPT4All\n",
    "model = GPT4All(\"mistral-7b-instruct-v0.1.Q4_0.gguf\",allow_download=False)\n",
    "#model = GPT4All(\"nous-hermes-llama2-13b.Q4_0.gguf\",allow_download=False)\n"
   ]
  },
  {
   "cell_type": "code",
   "execution_count": 2,
   "metadata": {},
   "outputs": [],
   "source": [
    "import html\n",
    "def generate_titles(keyword):\n",
    "    prompt = open(\"prompt_titles.txt\",\"r\").read().replace(\"<<keyword>>\",keyword)\n",
    "\n",
    "    with model.chat_session():\n",
    "            response2 = model.generate(prompt=prompt, max_tokens=1024, temp=0.7,streaming=False)\n",
    "            data_text = model.current_chat_session[2][\"content\"]\n",
    "\n",
    "    data_text = data_text.strip()\n",
    "    decoded_text = html.unescape(data_text)\n",
    "    return decoded_text"
   ]
  },
  {
   "cell_type": "code",
   "execution_count": 3,
   "metadata": {},
   "outputs": [
    {
     "name": "stdout",
     "output_type": "stream",
     "text": [
      "midlife crisis for men\n",
      "\n",
      "titles for midlife crisis for men\n",
      " saved\n",
      "female midlife crisis in 30s\n",
      "\n",
      "titles for female midlife crisis in 30s\n",
      " saved\n",
      "antinatalism\n",
      "\n",
      "titles for antinatalism\n",
      " saved\n",
      "body dysmorphia and pregnancy\n",
      "\n",
      "titles for body dysmorphia and pregnancy\n",
      " saved\n",
      "co parenting with a narcissist\n",
      "\n",
      "titles for co parenting with a narcissist\n",
      " saved\n",
      "adhd and emotional intensity\n",
      "\n",
      "titles for adhd and emotional intensity\n",
      " saved\n",
      "adhd emotional dysregulation child\n",
      "\n",
      "titles for adhd emotional dysregulation child\n",
      " saved\n",
      "emotional intelligence and neurodiversity\n",
      "\n",
      "titles for emotional intelligence and neurodiversity\n",
      " saved\n",
      "emotional regulation and neurodiversity\n",
      "titles for emotional regulation and neurodiversity saved\n"
     ]
    }
   ],
   "source": [
    "keywords = open(\"keywords.txt\",\"r\",encoding=\"utf-8\").readlines()\n",
    "for kw in keywords:\n",
    "    print(kw)\n",
    "    titles = generate_titles(kw)\n",
    "    open(\"titles.txt\",\"a\",encoding=\"utf-8\").write(titles+'\\n')\n",
    "    print(f'titles for {kw} saved')"
   ]
  }
 ],
 "metadata": {
  "kernelspec": {
   "display_name": "Python 3",
   "language": "python",
   "name": "python3"
  },
  "language_info": {
   "codemirror_mode": {
    "name": "ipython",
    "version": 3
   },
   "file_extension": ".py",
   "mimetype": "text/x-python",
   "name": "python",
   "nbconvert_exporter": "python",
   "pygments_lexer": "ipython3",
   "version": "3.12.2"
  }
 },
 "nbformat": 4,
 "nbformat_minor": 2
}
